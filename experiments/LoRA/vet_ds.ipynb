{
 "cells": [
  {
   "cell_type": "code",
   "execution_count": 11,
   "metadata": {},
   "outputs": [],
   "source": [
    "from datasets import load_from_disk, load_dataset"
   ]
  },
  {
   "cell_type": "code",
   "execution_count": 49,
   "metadata": {},
   "outputs": [
    {
     "data": {
      "text/plain": [
       "Dataset({\n",
       "    features: ['input_ids', 'attention_mask', 'labels'],\n",
       "    num_rows: 27\n",
       "})"
      ]
     },
     "execution_count": 49,
     "metadata": {},
     "output_type": "execute_result"
    }
   ],
   "source": [
    "dataset = load_from_disk(\"../../datasets/etel_adnan_dataset\")\n",
    "dataset.set_format(\"torch\")\n",
    "dataset"
   ]
  },
  {
   "cell_type": "code",
   "execution_count": 50,
   "metadata": {},
   "outputs": [
    {
     "data": {
      "text/plain": [
       "tensor([[    0,     0,     0,  ...,  1924,    30,     2],\n",
       "        [    0,     0,     0,  ...,  1517,    30,     2],\n",
       "        [    0,     0,     0,  ...,   346,    47,     2],\n",
       "        ...,\n",
       "        [    0,     0,     0,  ..., 35560,    30,     2],\n",
       "        [    0,     0,     0,  ...,  9740,  1184,     2],\n",
       "        [    0,     0,     0,  ...,  1194,    30,     2]])"
      ]
     },
     "execution_count": 50,
     "metadata": {},
     "output_type": "execute_result"
    }
   ],
   "source": [
    "dataset[\"input_ids\"]"
   ]
  },
  {
   "cell_type": "code",
   "execution_count": 51,
   "metadata": {},
   "outputs": [
    {
     "data": {
      "text/plain": [
       "{'input_ids': tensor([[   0,    0,    0,  ..., 1924,   30,    2],\n",
       "         [   0,    0,    0,  ..., 1517,   30,    2]]),\n",
       " 'attention_mask': tensor([[False, False, False,  ...,  True,  True,  True],\n",
       "         [False, False, False,  ...,  True,  True,  True]]),\n",
       " 'labels': tensor([[   0,    0,    0,  ..., 1924,   30,    2],\n",
       "         [   0,    0,    0,  ..., 1517,   30,    2]])}"
      ]
     },
     "execution_count": 51,
     "metadata": {},
     "output_type": "execute_result"
    }
   ],
   "source": [
    "dataset[:2]"
   ]
  },
  {
   "cell_type": "code",
   "execution_count": 12,
   "metadata": {},
   "outputs": [
    {
     "data": {
      "text/plain": [
       "DatasetDict({\n",
       "    train: Dataset({\n",
       "        features: ['full_topic', 'messages'],\n",
       "        num_rows: 2260\n",
       "    })\n",
       "    test: Dataset({\n",
       "        features: ['full_topic', 'messages'],\n",
       "        num_rows: 119\n",
       "    })\n",
       "})"
      ]
     },
     "execution_count": 12,
     "metadata": {},
     "output_type": "execute_result"
    }
   ],
   "source": [
    "dataset2 = load_dataset(\"HuggingFaceTB/smoltalk\", \"everyday-conversations\")\n",
    "dataset2.set_format(\"torch\")\n",
    "dataset2"
   ]
  },
  {
   "cell_type": "code",
   "execution_count": 13,
   "metadata": {},
   "outputs": [
    {
     "data": {
      "text/plain": [
       "Dataset({\n",
       "    features: ['full_topic', 'messages'],\n",
       "    num_rows: 2260\n",
       "})"
      ]
     },
     "execution_count": 13,
     "metadata": {},
     "output_type": "execute_result"
    }
   ],
   "source": [
    "dataset2[\"train\"]"
   ]
  },
  {
   "cell_type": "code",
   "execution_count": 15,
   "metadata": {},
   "outputs": [
    {
     "data": {
      "text/plain": [
       "{'full_topic': 'Travel/Vacation destinations/Beach resorts',\n",
       " 'messages': [{'content': 'Hi there', 'role': 'user'},\n",
       "  {'content': 'Hello! How can I help you today?', 'role': 'assistant'},\n",
       "  {'content': \"I'm looking for a beach resort for my next vacation. Can you recommend some popular ones?\",\n",
       "   'role': 'user'},\n",
       "  {'content': \"Some popular beach resorts include Maui in Hawaii, the Maldives, and the Bahamas. They're known for their beautiful beaches and crystal-clear waters.\",\n",
       "   'role': 'assistant'},\n",
       "  {'content': 'That sounds great. Are there any resorts in the Caribbean that are good for families?',\n",
       "   'role': 'user'},\n",
       "  {'content': 'Yes, the Turks and Caicos Islands and Barbados are excellent choices for family-friendly resorts in the Caribbean. They offer a range of activities and amenities suitable for all ages.',\n",
       "   'role': 'assistant'},\n",
       "  {'content': \"Okay, I'll look into those. Thanks for the recommendations!\",\n",
       "   'role': 'user'},\n",
       "  {'content': \"You're welcome. I hope you find the perfect resort for your vacation.\",\n",
       "   'role': 'assistant'}]}"
      ]
     },
     "execution_count": 15,
     "metadata": {},
     "output_type": "execute_result"
    }
   ],
   "source": [
    "dataset2[\"train\"][0]"
   ]
  },
  {
   "cell_type": "code",
   "execution_count": 14,
   "metadata": {},
   "outputs": [],
   "source": [
    "from transformers import AutoTokenizer\n",
    "tokenizer = AutoTokenizer.from_pretrained(\"microsoft/phi-4\")"
   ]
  },
  {
   "cell_type": "code",
   "execution_count": 60,
   "metadata": {},
   "outputs": [
    {
     "name": "stdout",
     "output_type": "stream",
     "text": [
      "[100264, 882, 100266, 13347, 1070, 100265, 100264, 78191, 100266, 9906, 0, 2650, 649, 358, 1520, 499, 3432, 30, 100265, 100264, 882, 100266, 40, 2846, 3411, 369, 264, 11573, 22541, 369, 856, 1828, 20769, 13, 3053, 499, 7079, 1063, 5526, 6305, 30, 100265, 100264, 78191, 100266, 8538, 5526, 11573, 61545, 2997, 93550, 304, 28621, 11, 279, 8560, 91614, 11, 323, 279, 84229, 13, 2435, 2351, 3967, 369, 872, 6366, 35909, 323, 26110, 68127, 21160, 13, 100265, 100264, 882, 100266, 4897, 10578, 2294, 13, 8886, 1070, 904, 61545, 304, 279, 35374, 430, 527, 1695, 369, 8689, 30, 100265, 100264, 78191, 100266, 9642, 11, 279, 72857, 323, 14751, 17038, 23028, 323, 47142, 5670, 527, 9250, 11709, 369, 3070, 22658, 61545, 304, 279, 35374, 13, 2435, 3085, 264, 2134, 315, 7640, 323, 36483, 14791, 369, 682, 17051, 13, 100265, 100264, 882, 100266, 33413, 11, 358, 3358, 1427, 1139, 1884, 13, 11361, 369, 279, 19075, 0, 100265, 100264, 78191, 100266, 2675, 2351, 10788, 13, 358, 3987, 499, 1505, 279, 4832, 22541, 369, 701, 20769, 13, 100265]\n"
     ]
    }
   ],
   "source": [
    "print(tokenizer.apply_chat_template(dataset2[\"train\"][0][\"messages\"]))"
   ]
  },
  {
   "cell_type": "code",
   "execution_count": 20,
   "metadata": {},
   "outputs": [
    {
     "data": {
      "application/vnd.jupyter.widget-view+json": {
       "model_id": "6ab7fe84c56746a299d6744d06e26dc0",
       "version_major": 2,
       "version_minor": 0
      },
      "text/plain": [
       "Map:   0%|          | 0/2260 [00:00<?, ? examples/s]"
      ]
     },
     "metadata": {},
     "output_type": "display_data"
    }
   ],
   "source": [
    "templated_ds2 = dataset2[\"train\"].map(\n",
    "    lambda x: {\"input_ids\": tokenizer.apply_chat_template(x[\"messages\"])}, batched=True\n",
    ")"
   ]
  },
  {
   "cell_type": "code",
   "execution_count": 23,
   "metadata": {},
   "outputs": [
    {
     "data": {
      "text/plain": [
       "Dataset({\n",
       "    features: ['full_topic', 'messages', 'input_ids'],\n",
       "    num_rows: 2260\n",
       "})"
      ]
     },
     "execution_count": 23,
     "metadata": {},
     "output_type": "execute_result"
    }
   ],
   "source": [
    "templated_ds2"
   ]
  },
  {
   "cell_type": "code",
   "execution_count": 31,
   "metadata": {},
   "outputs": [],
   "source": [
    "templated_ds2.set_format(\"torch\")"
   ]
  },
  {
   "cell_type": "code",
   "execution_count": 55,
   "metadata": {},
   "outputs": [
    {
     "data": {
      "text/plain": [
       "[tensor([100264,    882, 100266,  13347,   1070, 100265, 100264,  78191, 100266,\n",
       "           9906,      0,   2650,    649,    358,   1520,    499,   3432,     30,\n",
       "         100265, 100264,    882, 100266,     40,   2846,   3411,    369,    264,\n",
       "          11573,  22541,    369,    856,   1828,  20769,     13,   3053,    499,\n",
       "           7079,   1063,   5526,   6305,     30, 100265, 100264,  78191, 100266,\n",
       "           8538,   5526,  11573,  61545,   2997,  93550,    304,  28621,     11,\n",
       "            279,   8560,  91614,     11,    323,    279,  84229,     13,   2435,\n",
       "           2351,   3967,    369,    872,   6366,  35909,    323,  26110,  68127,\n",
       "          21160,     13, 100265, 100264,    882, 100266,   4897,  10578,   2294,\n",
       "             13,   8886,   1070,    904,  61545,    304,    279,  35374,    430,\n",
       "            527,   1695,    369,   8689,     30, 100265, 100264,  78191, 100266,\n",
       "           9642,     11,    279,  72857,    323,  14751,  17038,  23028,    323,\n",
       "          47142,   5670,    527,   9250,  11709,    369,   3070,  22658,  61545,\n",
       "            304,    279,  35374,     13,   2435,   3085,    264,   2134,    315,\n",
       "           7640,    323,  36483,  14791,    369,    682,  17051,     13, 100265,\n",
       "         100264,    882, 100266,  33413,     11,    358,   3358,   1427,   1139,\n",
       "           1884,     13,  11361,    369,    279,  19075,      0, 100265, 100264,\n",
       "          78191, 100266,   2675,   2351,  10788,     13,    358,   3987,    499,\n",
       "           1505,    279,   4832,  22541,    369,    701,  20769,     13, 100265]),\n",
       " tensor([100264,    882, 100266,  13347, 100265, 100264,  78191, 100266,   9906,\n",
       "              0,   2650,    649,    358,   1520,    499,   3432,     30, 100265,\n",
       "         100264,    882, 100266,     40,   2846,   3411,    369,   7076,   9650,\n",
       "             13,    358,   1390,    311,   1505,    264,    502,   2683,     11,\n",
       "            719,    358,   2846,    539,   2771,   1148,    358,   1390,    311,\n",
       "            656,     13, 100265, 100264,  78191, 100266,  91293,   4500,    649,\n",
       "            387,  17436,     13,   3639,    527,    701,   1510,   7512,    323,\n",
       "          12034,    430,   2643,   1520,  15376,   1523,   1063,   2671,     30,\n",
       "         100265, 100264,    882, 100266,     40,    617,   3217,    304,   8661,\n",
       "            323,   4774,   3318,    449,   1274,     13,    358,   2846,   1101,\n",
       "           8173,    304,   6975,    810,    922,    828,   6492,     13, 100265,\n",
       "         100264,  78191, 100266,   4897,    596,    264,   2294,  10824,     13,\n",
       "           1472,   2643,   2980,  13073,   1093,   8661,  18738,    477,   2626,\n",
       "           4500,     11,    902,  16343,   1274,   7512,    449,    828,   6492,\n",
       "             13,    358,    649,   3493,    810,   2038,    389,   1884,  31133,\n",
       "            422,    499,   4265,   1093,     13, 100265, 100264,    882, 100266,\n",
       "           4897,  10578,  11190,     13,   3053,    499,   1101,   4284,   1063,\n",
       "           5070,    369,   6975,    828,   6492,     30, 100265, 100264,  78191,\n",
       "         100266,  78145,     13,   8267,  14307,   1093,   6377,    805,     64,\n",
       "             11,   1608,     55,     11,    323,  33867,  21579,   3085,    264,\n",
       "           7029,   2134,    315,    828,   6492,  14307,     13,  23212,     11,\n",
       "            499,    649,  13488,   6721,  14488,   1093,  33867,   5315,    477,\n",
       "           9604,   5064,   4455,    311,   4048,    505,   3885,    304,    279,\n",
       "           2115,     13, 100265])]"
      ]
     },
     "execution_count": 55,
     "metadata": {},
     "output_type": "execute_result"
    }
   ],
   "source": [
    "templated_ds2[\"input_ids\"][:2]"
   ]
  },
  {
   "cell_type": "markdown",
   "metadata": {},
   "source": [
    "# HF Tutorial"
   ]
  },
  {
   "cell_type": "code",
   "execution_count": 40,
   "metadata": {},
   "outputs": [],
   "source": [
    "from datasets import load_dataset_builder\n",
    "\n",
    "ds_builder = load_dataset_builder(\"rotten_tomatoes\")"
   ]
  },
  {
   "cell_type": "code",
   "execution_count": 45,
   "metadata": {},
   "outputs": [
    {
     "data": {
      "text/plain": [
       "DatasetInfo(description='', citation='', homepage='', license='', features={'text': Value(dtype='string', id=None), 'label': ClassLabel(names=['neg', 'pos'], id=None)}, post_processed=None, supervised_keys=None, builder_name='parquet', dataset_name='rotten_tomatoes', config_name='default', version=0.0.0, splits={'train': SplitInfo(name='train', num_bytes=1074810, num_examples=8530, shard_lengths=None, dataset_name=None), 'validation': SplitInfo(name='validation', num_bytes=134679, num_examples=1066, shard_lengths=None, dataset_name=None), 'test': SplitInfo(name='test', num_bytes=135972, num_examples=1066, shard_lengths=None, dataset_name=None)}, download_checksums=None, download_size=487770, post_processing_size=None, dataset_size=1345461, size_in_bytes=None)"
      ]
     },
     "execution_count": 45,
     "metadata": {},
     "output_type": "execute_result"
    }
   ],
   "source": [
    "ds_builder.info"
   ]
  },
  {
   "cell_type": "code",
   "execution_count": 52,
   "metadata": {},
   "outputs": [],
   "source": [
    "from datasets import load_dataset\n",
    "\n",
    "rotten_tomatoes = load_dataset(\"rotten_tomatoes\", split=\"train\")"
   ]
  },
  {
   "cell_type": "code",
   "execution_count": 53,
   "metadata": {},
   "outputs": [
    {
     "data": {
      "text/plain": [
       "Dataset({\n",
       "    features: ['text', 'label'],\n",
       "    num_rows: 8530\n",
       "})"
      ]
     },
     "execution_count": 53,
     "metadata": {},
     "output_type": "execute_result"
    }
   ],
   "source": [
    "rotten_tomatoes"
   ]
  },
  {
   "cell_type": "code",
   "execution_count": 58,
   "metadata": {},
   "outputs": [
    {
     "data": {
      "text/plain": [
       "{'input_ids': [1820, 7091, 374, 51687, 311, 387, 279, 220, 1691, 267, 9478, 596, 502, 330, 390, 276, 330, 323, 430, 568, 596, 2133, 311, 1304, 264, 35732, 1524, 7191, 1109, 802, 77, 820, 82928, 5797, 797, 1414, 1174, 97721, 31717, 8039, 5355, 3824, 2727, 477, 4179, 1055, 4915, 278, 662], 'attention_mask': [1, 1, 1, 1, 1, 1, 1, 1, 1, 1, 1, 1, 1, 1, 1, 1, 1, 1, 1, 1, 1, 1, 1, 1, 1, 1, 1, 1, 1, 1, 1, 1, 1, 1, 1, 1, 1, 1, 1, 1, 1, 1, 1, 1, 1, 1, 1, 1, 1]}"
      ]
     },
     "execution_count": 58,
     "metadata": {},
     "output_type": "execute_result"
    }
   ],
   "source": [
    "tokenizer(rotten_tomatoes[0][\"text\"])"
   ]
  },
  {
   "cell_type": "code",
   "execution_count": 57,
   "metadata": {},
   "outputs": [
    {
     "data": {
      "application/vnd.jupyter.widget-view+json": {
       "model_id": "099bee2ab2704189a35001f7e5354106",
       "version_major": 2,
       "version_minor": 0
      },
      "text/plain": [
       "Map:   0%|          | 0/8530 [00:00<?, ? examples/s]"
      ]
     },
     "metadata": {},
     "output_type": "display_data"
    }
   ],
   "source": [
    "def tokenization(example):\n",
    "    return tokenizer(example[\"text\"])\n",
    "\n",
    "\n",
    "rotten_tomatoes_tokenized = rotten_tomatoes.map(lambda example: tokenizer(example[\"text\"]), batched=True)"
   ]
  },
  {
   "cell_type": "code",
   "execution_count": null,
   "metadata": {},
   "outputs": [],
   "source": []
  },
  {
   "cell_type": "code",
   "execution_count": null,
   "metadata": {},
   "outputs": [],
   "source": []
  }
 ],
 "metadata": {
  "kernelspec": {
   "display_name": "nlp",
   "language": "python",
   "name": "python3"
  },
  "language_info": {
   "codemirror_mode": {
    "name": "ipython",
    "version": 3
   },
   "file_extension": ".py",
   "mimetype": "text/x-python",
   "name": "python",
   "nbconvert_exporter": "python",
   "pygments_lexer": "ipython3",
   "version": "3.12.8"
  }
 },
 "nbformat": 4,
 "nbformat_minor": 2
}
